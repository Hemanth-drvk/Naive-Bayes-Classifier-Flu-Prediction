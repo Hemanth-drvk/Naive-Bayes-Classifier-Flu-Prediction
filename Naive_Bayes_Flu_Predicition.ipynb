{
 "cells": [
  {
   "cell_type": "markdown",
   "metadata": {},
   "source": [
    "# Naïve Bayes classifier to determine if a person has the flu "
   ]
  },
  {
   "cell_type": "markdown",
   "metadata": {},
   "source": [
    "### Classifier with labels"
   ]
  },
  {
   "cell_type": "markdown",
   "metadata": {},
   "source": [
    " - Yes = 1, No = 0<br>\n",
    " - No headache = 0, Mild = 1, Strong = 2<br>"
   ]
  },
  {
   "cell_type": "code",
   "execution_count": 1,
   "metadata": {},
   "outputs": [
    {
     "name": "stdout",
     "output_type": "stream",
     "text": [
      "{0: 0.018518518518518517, 1: 0.006000000000000002}\n"
     ]
    }
   ],
   "source": [
    "import numpy as np\n",
    "from collections import Counter, defaultdict\n",
    " \n",
    "def occurrences(list1):\n",
    "    no_of_examples = len(list1)\n",
    "    prob = dict(Counter(list1))\n",
    "    for key in prob.keys():\n",
    "        prob[key] = prob[key] / float(no_of_examples)\n",
    "    return prob\n",
    " \n",
    "def naive_bayes(training, outcome, new_sample):\n",
    "    classes     = np.unique(outcome)\n",
    "    rows, cols  = np.shape(training)\n",
    "    likelihoods = {}\n",
    "    for cls in classes:\n",
    "        likelihoods[cls] = defaultdict(list)\n",
    " \n",
    "    class_probabilities = occurrences(outcome)\n",
    " \n",
    "    for cls in classes:\n",
    "        row_indices = np.where(outcome == cls)[0]\n",
    "        subset      = training[row_indices, :]\n",
    "        r, c        = np.shape(subset)\n",
    "        for j in range(0,c):\n",
    "            likelihoods[cls][j] += list(subset[:,j])\n",
    " \n",
    "    for cls in classes:\n",
    "        for j in range(0,cols):\n",
    "             likelihoods[cls][j] = occurrences(likelihoods[cls][j])\n",
    " \n",
    "    results = {}\n",
    "    for cls in classes:\n",
    "         class_probability = class_probabilities[cls]\n",
    "         for i in range(0,len(new_sample)):\n",
    "             relative_values = likelihoods[cls][i]\n",
    "             if new_sample[i] in relative_values.keys():\n",
    "                 class_probability *= relative_values[new_sample[i]]\n",
    "             else:\n",
    "                 class_probability *= 0\n",
    "             results[cls] = class_probability\n",
    "    print(results)\n",
    " \n",
    "if __name__ == \"__main__\":\n",
    "    training   = np.asarray(((1,0,1,1),(1,1,0,0),(1,0,2,1),(0,1,1,1),(0,0,0,0),(0,1,2,1),(0,1,2,0),(1,1,1,1)));\n",
    "    outcome    = np.asarray((0,1,1,1,0,1,0,1))\n",
    "    new_sample = np.asarray((1,0,1,0))\n",
    "    naive_bayes(training, outcome, new_sample)"
   ]
  },
  {
   "cell_type": "markdown",
   "metadata": {},
   "source": [
    "##### Output: \n",
    "#### 0 rounded to 4 decimals is 0.0185\n",
    "#### 1 rounded to 4 decimals is 0.0006"
   ]
  },
  {
   "cell_type": "markdown",
   "metadata": {},
   "source": [
    "### Classifier with words surrounded by quotes"
   ]
  },
  {
   "cell_type": "code",
   "execution_count": 2,
   "metadata": {},
   "outputs": [
    {
     "name": "stdout",
     "output_type": "stream",
     "text": [
      "{'N': 0.018518518518518517, 'Y': 0.006000000000000002}\n"
     ]
    }
   ],
   "source": [
    "import numpy as np\n",
    "from collections import Counter, defaultdict\n",
    " \n",
    "def occurrences(list1):\n",
    "    no_of_examples = len(list1)\n",
    "    prob = dict(Counter(list1))\n",
    "    for key in prob.keys():\n",
    "        prob[key] = prob[key] / float(no_of_examples)\n",
    "    return prob\n",
    " \n",
    "def naive_bayes(training, outcome, new_sample):\n",
    "    classes     = np.unique(outcome)\n",
    "    rows, cols  = np.shape(training)\n",
    "    likelihoods = {}\n",
    "    for cls in classes:\n",
    "        likelihoods[cls] = defaultdict(list)\n",
    " \n",
    "    class_probabilities = occurrences(outcome)\n",
    " \n",
    "    for cls in classes:\n",
    "        row_indices = np.where(outcome == cls)[0]\n",
    "        subset      = training[row_indices, :]\n",
    "        r, c        = np.shape(subset)\n",
    "        for j in range(0,c):\n",
    "            likelihoods[cls][j] += list(subset[:,j])\n",
    " \n",
    "    for cls in classes:\n",
    "        for j in range(0,cols):\n",
    "             likelihoods[cls][j] = occurrences(likelihoods[cls][j])\n",
    " \n",
    "    results = {}\n",
    "    for cls in classes:\n",
    "         class_probability = class_probabilities[cls]\n",
    "         for i in range(0,len(new_sample)):\n",
    "             relative_values = likelihoods[cls][i]\n",
    "             if new_sample[i] in relative_values.keys():\n",
    "                 class_probability *= relative_values[new_sample[i]]\n",
    "             else:\n",
    "                 class_probability *= 0\n",
    "             results[cls] = class_probability\n",
    "    print(results)\n",
    " \n",
    "if __name__ == \"__main__\":\n",
    "    training   = np.asarray((('Y','N','Mild','Y'),('Y','Y','N','N'),('Y','N','Strong','Y'),('N','Y','Mild','Y'),('N','N','No','N'),('N','Y','Strong','Y'),('N','Y','Strong','N'),('Y','Y','Mild','Y')));\n",
    "    outcome    = np.asarray(('N','Y','Y','Y','N','Y','N','Y'))\n",
    "    new_sample = np.asarray(('Y','N','Mild','N'))\n",
    "    naive_bayes(training, outcome, new_sample)"
   ]
  },
  {
   "cell_type": "markdown",
   "metadata": {},
   "source": [
    "##### Output: \n",
    "#### 'No'  rounded to 4 decimals is 0.0185\n",
    "#### 'Yes'  rounded to 4 decimals is 0.0006"
   ]
  },
  {
   "cell_type": "markdown",
   "metadata": {},
   "source": [
    "Rinda Digamarthi(157742d)"
   ]
  },
  {
   "cell_type": "code",
   "execution_count": null,
   "metadata": {},
   "outputs": [],
   "source": []
  }
 ],
 "metadata": {
  "kernelspec": {
   "display_name": "Python 3 (ipykernel)",
   "language": "python",
   "name": "python3"
  },
  "language_info": {
   "codemirror_mode": {
    "name": "ipython",
    "version": 3
   },
   "file_extension": ".py",
   "mimetype": "text/x-python",
   "name": "python",
   "nbconvert_exporter": "python",
   "pygments_lexer": "ipython3",
   "version": "3.8.0"
  },
  "varInspector": {
   "cols": {
    "lenName": 16,
    "lenType": 16,
    "lenVar": 40
   },
   "kernels_config": {
    "python": {
     "delete_cmd_postfix": "",
     "delete_cmd_prefix": "del ",
     "library": "var_list.py",
     "varRefreshCmd": "print(var_dic_list())"
    },
    "r": {
     "delete_cmd_postfix": ") ",
     "delete_cmd_prefix": "rm(",
     "library": "var_list.r",
     "varRefreshCmd": "cat(var_dic_list()) "
    }
   },
   "types_to_exclude": [
    "module",
    "function",
    "builtin_function_or_method",
    "instance",
    "_Feature"
   ],
   "window_display": false
  }
 },
 "nbformat": 4,
 "nbformat_minor": 4
}
